{
 "cells": [
  {
   "cell_type": "markdown",
   "metadata": {
    "slideshow": {
     "slide_type": "slide"
    }
   },
   "source": [
    "# Person Counter: Prediction\n",
    "This notebook contains code for prediction using pre-trained models. It stores the output in a pickle file"
   ]
  },
  {
   "cell_type": "code",
   "execution_count": 8,
   "metadata": {},
   "outputs": [],
   "source": [
    "DATASET = \"MOT16\"\n",
    "MODEL_ID = 1"
   ]
  },
  {
   "cell_type": "markdown",
   "metadata": {
    "slideshow": {
     "slide_type": "slide"
    }
   },
   "source": [
    "# Imports"
   ]
  },
  {
   "cell_type": "code",
   "execution_count": 29,
   "metadata": {
    "scrolled": true,
    "slideshow": {
     "slide_type": "subslide"
    }
   },
   "outputs": [],
   "source": [
    "import numpy as np\n",
    "import os\n",
    "import six.moves.urllib as urllib\n",
    "import sys\n",
    "import tarfile\n",
    "import tensorflow as tf\n",
    "import zipfile\n",
    "import xml.etree.ElementTree as ET\n",
    "import copy\n",
    "\n",
    "from collections import defaultdict\n",
    "from io import StringIO\n",
    "#from matplotlib import pyplot as plt # Commented because of warning that matplot lib is already loaded\n",
    "from PIL import Image\n",
    "import pickle\n",
    "import time\n",
    "import csv\n",
    "\n",
    "# This is needed since the notebook is stored in the object_detection folder.\n",
    "sys.path.append(\"..\")\n",
    "from object_detection.utils import ops as utils_ops\n",
    "\n",
    "if tf.__version__ < '1.4.0':\n",
    "  raise ImportError('Please upgrade your tensorflow installation to v1.4.* or later!')\n"
   ]
  },
  {
   "cell_type": "markdown",
   "metadata": {
    "slideshow": {
     "slide_type": "fragment"
    }
   },
   "source": [
    "## Env setup"
   ]
  },
  {
   "cell_type": "code",
   "execution_count": 10,
   "metadata": {
    "slideshow": {
     "slide_type": "fragment"
    }
   },
   "outputs": [],
   "source": [
    "# This is needed to display the images.\n",
    "%matplotlib inline"
   ]
  },
  {
   "cell_type": "markdown",
   "metadata": {
    "slideshow": {
     "slide_type": "notes"
    }
   },
   "source": [
    "## Object detection imports\n",
    "Here are the imports from the object detection module."
   ]
  },
  {
   "cell_type": "code",
   "execution_count": 11,
   "metadata": {
    "slideshow": {
     "slide_type": "notes"
    }
   },
   "outputs": [],
   "source": [
    "sys.path.append(\"../obj_det/\")\n",
    "from utils import label_map_util\n",
    "#from utils import visualization_utils as vis_util\n",
    "from utils import object_detection_evaluation as od_eval"
   ]
  },
  {
   "cell_type": "markdown",
   "metadata": {
    "slideshow": {
     "slide_type": "slide"
    }
   },
   "source": [
    "# Model preparation "
   ]
  },
  {
   "cell_type": "markdown",
   "metadata": {
    "slideshow": {
     "slide_type": "slide"
    }
   },
   "source": [
    "## Variables\n",
    "\n",
    "We use models from the [detection model zoo](https://github.com/tensorflow/models/blob/master/research/object_detection/g3doc/detection_model_zoo.md)"
   ]
  },
  {
   "cell_type": "code",
   "execution_count": 14,
   "metadata": {
    "slideshow": {
     "slide_type": "slide"
    }
   },
   "outputs": [],
   "source": [
    "# Models used in paper\n",
    "ALL_MODEL = ['ssd_mobilenet_v1_coco_2017_11_17' #0\n",
    "    ,'ssd_inception_v2_coco_2017_11_17' #1\n",
    "    ,'rfcn_resnet101_coco_2018_01_28' #2\n",
    "    ,'faster_rcnn_resnet101_coco_2018_01_28' #3\n",
    "    ,'faster_rcnn_inception_v2_coco_2018_01_28' #4\n",
    "]\n",
    "\n",
    "MODEL_NAME = ALL_MODEL[MODEL_ID]\n",
    "\n",
    "# Path to frozen detection graph. This is the actual model that is used for the object detection.\n",
    "OD_DIR = '../obj_det'\n",
    "\n",
    "PATH_TO_CKPT = MODEL_NAME + '/frozen_inference_graph.pb'\n",
    "PATH_TO_CKPT = os.path.join(OD_DIR, PATH_TO_CKPT)\n",
    "# List of the strings that is used to add correct label for each box.\n",
    "PATH_TO_LABELS = os.path.join('data', 'mscoco_label_map.pbtxt')\n",
    "PATH_TO_LABELS = os.path.join(OD_DIR, PATH_TO_LABELS)\n",
    "NUM_CLASSES = 90"
   ]
  },
  {
   "cell_type": "markdown",
   "metadata": {
    "slideshow": {
     "slide_type": "slide"
    }
   },
   "source": [
    "## Load a (frozen) Tensorflow model into memory."
   ]
  },
  {
   "cell_type": "code",
   "execution_count": 15,
   "metadata": {
    "slideshow": {
     "slide_type": "slide"
    }
   },
   "outputs": [],
   "source": [
    "detection_graph = tf.Graph()\n",
    "with detection_graph.as_default():\n",
    "  od_graph_def = tf.GraphDef()\n",
    "  with tf.gfile.GFile(PATH_TO_CKPT, 'rb') as fid:\n",
    "    serialized_graph = fid.read()\n",
    "    od_graph_def.ParseFromString(serialized_graph)\n",
    "    tf.import_graph_def(od_graph_def, name='')"
   ]
  },
  {
   "cell_type": "markdown",
   "metadata": {
    "slideshow": {
     "slide_type": "slide"
    }
   },
   "source": [
    "## Loading label map\n",
    "Label maps map indices to category names, so that when our convolution network predicts `5`, we know that this corresponds to `airplane`.  Here we use internal utility functions, but anything that returns a dictionary mapping integers to appropriate string labels would be fine"
   ]
  },
  {
   "cell_type": "code",
   "execution_count": 16,
   "metadata": {
    "slideshow": {
     "slide_type": "slide"
    }
   },
   "outputs": [],
   "source": [
    "label_map = label_map_util.load_labelmap(PATH_TO_LABELS)\n",
    "categories = label_map_util.convert_label_map_to_categories(label_map, max_num_classes=NUM_CLASSES, use_display_name=True)\n",
    "category_index = label_map_util.create_category_index(categories)"
   ]
  },
  {
   "cell_type": "code",
   "execution_count": 30,
   "metadata": {},
   "outputs": [
    {
     "data": {
      "text/plain": [
       "{'id': 1, 'name': u'person'}"
      ]
     },
     "execution_count": 30,
     "metadata": {},
     "output_type": "execute_result"
    }
   ],
   "source": [
    "category_index[1]"
   ]
  },
  {
   "cell_type": "markdown",
   "metadata": {
    "slideshow": {
     "slide_type": "slide"
    }
   },
   "source": [
    "## Helper code"
   ]
  },
  {
   "cell_type": "code",
   "execution_count": 18,
   "metadata": {
    "slideshow": {
     "slide_type": "slide"
    }
   },
   "outputs": [],
   "source": [
    "def load_image_into_numpy_array(image):\n",
    "  (im_width, im_height) = image.size\n",
    "  return np.array(image.getdata()).reshape(\n",
    "      (im_height, im_width, 3)).astype(np.uint8)"
   ]
  },
  {
   "cell_type": "code",
   "execution_count": 19,
   "metadata": {},
   "outputs": [],
   "source": [
    "# Convert from normalized coordinates to original image coordinates\n",
    "def denormalise_box(box, image_size):\n",
    "    box[:,0] = box[:,0] * image_size[1]\n",
    "    box[:,1] = box[:,1] * image_size[0]\n",
    "    box[:,2] = box[:,2] * image_size[1]\n",
    "    box[:,3] = box[:,3] * image_size[0]\n",
    "    return box"
   ]
  },
  {
   "cell_type": "markdown",
   "metadata": {},
   "source": [
    "## Directory Structure\n",
    "```\n",
    "MOT16\n",
    "/train\n",
    "  /MOT16-02\n",
    "    /seqinfo.ini\n",
    "    /img1\n",
    "    /gt\n",
    "        gt.txt\n",
    "\n",
    "PersonCounter\n",
    " /Output\n",
    "   /ModelA\n",
    "        prediction                 // Pickle file of groundtruth and prediction\n",
    "        /Image                     // Folder of images with GT and predicted BB\n",
    "        evaluate                   // Results of evalute\n",
    "\n",
    "```"
   ]
  },
  {
   "cell_type": "code",
   "execution_count": 40,
   "metadata": {
    "slideshow": {
     "slide_type": "slide"
    }
   },
   "outputs": [],
   "source": [
    "PATH_TO_DATABASE = '../MOT16/train/MOT16-10'        \n",
    "PATH_TO_IMAGES_DIR = PATH_TO_DATABASE + 'img1/'\n",
    "PATH_TO_ANNOTATIONS_DIR = PATH_TO_DATABASE + '/gt/gt.txt'\n",
    "\n",
    "PATH_TO_OUTPUT_DIR = 'Output/'\n",
    "PATH_TO_PREDICTION_DIR = os.path.join(PATH_TO_OUTPUT_DIR, MODEL_NAME) # Output/Model\n",
    "PREDICTION_PKL_FILE = os.path.join(PATH_TO_PREDICTION_DIR, \"prediction\")\n",
    "\n",
    "# Size, in inches, of the output images.\n",
    "IMAGE_SIZE = (12, 8)\n",
    "\n",
    "# Store results to Output/Model directory\n",
    "if not os.path.exists(PATH_TO_PREDICTION_DIR):\n",
    "    os.makedirs(PATH_TO_PREDICTION_DIR)\n",
    "    os.makedirs(os.path.join(PATH_TO_PREDICTION_DIR,\"Image\"))"
   ]
  },
  {
   "cell_type": "markdown",
   "metadata": {},
   "source": [
    "# Visualize BB"
   ]
  },
  {
   "cell_type": "code",
   "execution_count": 44,
   "metadata": {},
   "outputs": [],
   "source": [
    "def visualize_image(image_np, prediction=None, groundtruth=None):\n",
    "    if output_dict != None:\n",
    "        # Plot the prediction\n",
    "        vis_util.visualize_boxes_and_labels_on_image_array(\n",
    "          image_np,\n",
    "          prediction['detection_boxes'],\n",
    "          prediction['detection_classes'],\n",
    "          prediction['detection_scores'],\n",
    "          category_index,\n",
    "          instance_masks=prediction.get('detection_masks'),\n",
    "          use_normalized_coordinates=False,\n",
    "          min_score_thresh=0.30,\n",
    "          line_thickness=8)\n",
    "    \n",
    "    if groundtruth != None:\n",
    "        # Plot the ground truth\n",
    "        vis_util.visualize_boxes_and_labels_on_image_array(\n",
    "          image_np,\n",
    "          groundtruth['groundtruth_boxes'],\n",
    "          groundtruth['groundtruth_classes'],\n",
    "          None,\n",
    "          category_index,\n",
    "          instance_masks=groundtruth.get('detection_masks'),\n",
    "          use_normalized_coordinates=False)   "
   ]
  },
  {
   "cell_type": "code",
   "execution_count": 43,
   "metadata": {},
   "outputs": [],
   "source": [
    "# file name with extension\n",
    "def drawBB(image_path, prediction):\n",
    "    # Visualization of the results of a detection.\n",
    "    original_image_path = os.path.join(PATH_TO_IMAGES_DIR, image_path)   \n",
    "    marked_image_path = os.path.join(PATH_TO_PREDICTION_DIR, 'Image')\n",
    "    marked_image_path = os.path.join(marked_image_path, image_path) \n",
    "\n",
    "    image = Image.open(original_image_path)\n",
    "    image_np = load_image_into_numpy_array(image)\n",
    "    # Update the image with predicted and grounttruth BB\n",
    "    visualize_image(image_np, prediction=prediction)\n",
    "    im = Image.fromarray(image_np)\n",
    "    IMAGE_FILE = os.path.join(marked_image_path)\n",
    "    #print \"Save file in\" + IMAGE_FILE\n",
    "    im.save(IMAGE_FILE)"
   ]
  },
  {
   "cell_type": "markdown",
   "metadata": {
    "slideshow": {
     "slide_type": "slide"
    }
   },
   "source": [
    "# Detection"
   ]
  },
  {
   "cell_type": "code",
   "execution_count": 22,
   "metadata": {
    "slideshow": {
     "slide_type": "slide"
    }
   },
   "outputs": [],
   "source": [
    "def run_inference_for_single_image(image, graph):\n",
    "  with graph.as_default():\n",
    "    with tf.Session() as sess:\n",
    "      # Get handles to input and output tensors\n",
    "      ops = tf.get_default_graph().get_operations()\n",
    "      all_tensor_names = {output.name for op in ops for output in op.outputs}\n",
    "      tensor_dict = {}\n",
    "      for key in [\n",
    "          'num_detections', 'detection_boxes', 'detection_scores',\n",
    "          'detection_classes', 'detection_masks'\n",
    "      ]:\n",
    "        tensor_name = key + ':0'\n",
    "        if tensor_name in all_tensor_names:\n",
    "          tensor_dict[key] = tf.get_default_graph().get_tensor_by_name(\n",
    "              tensor_name)\n",
    "      if 'detection_masks' in tensor_dict:\n",
    "        # The following processing is only for single image\n",
    "        detection_boxes = tf.squeeze(tensor_dict['detection_boxes'], [0])\n",
    "        detection_masks = tf.squeeze(tensor_dict['detection_masks'], [0])\n",
    "        # Reframe is required to translate mask from box coordinates to image coordinates and fit the image size.\n",
    "        real_num_detection = tf.cast(tensor_dict['num_detections'][0], tf.int32)\n",
    "        detection_boxes = tf.slice(detection_boxes, [0, 0], [real_num_detection, -1])\n",
    "        detection_masks = tf.slice(detection_masks, [0, 0, 0], [real_num_detection, -1, -1])\n",
    "        detection_masks_reframed = utils_ops.reframe_box_masks_to_image_masks(\n",
    "            detection_masks, detection_boxes, image.shape[0], image.shape[1])\n",
    "        detection_masks_reframed = tf.cast(\n",
    "            tf.greater(detection_masks_reframed, 0.5), tf.uint8)\n",
    "        # Follow the convention by adding back the batch dimension\n",
    "        tensor_dict['detection_masks'] = tf.expand_dims(\n",
    "            detection_masks_reframed, 0)\n",
    "      image_tensor = tf.get_default_graph().get_tensor_by_name('image_tensor:0')\n",
    "        \n",
    "      # Run inference\n",
    "      output_dict = sess.run(tensor_dict,\n",
    "                             feed_dict={image_tensor: np.expand_dims(image, 0)})\n",
    " \n",
    "      # all outputs are float32 numpy arrays, so convert types as appropriate\n",
    "      output_dict['num_detections'] = int(output_dict['num_detections'][0])\n",
    "      output_dict['detection_classes'] = output_dict[\n",
    "          'detection_classes'][0].astype(np.uint8)\n",
    "      output_dict['detection_boxes'] = output_dict['detection_boxes'][0]\n",
    "      output_dict['detection_scores'] = output_dict['detection_scores'][0]\n",
    "      if 'detection_masks' in output_dict:\n",
    "        output_dict['detection_masks'] = output_dict['detection_masks'][0]\n",
    "      # Need to include only the ones with confidence > threshold\n",
    "  return output_dict"
   ]
  },
  {
   "cell_type": "markdown",
   "metadata": {},
   "source": [
    "#### Extract groundtruth from CSV file"
   ]
  },
  {
   "cell_type": "code",
   "execution_count": 23,
   "metadata": {},
   "outputs": [],
   "source": [
    "def extract_gt_for_single_image(image_id):\n",
    "    annotation_path = os.path.join(PATH_TO_TEST_ANNOTATIONS_DIR, '{}.xml'.format(image_id))\n",
    "    \n",
    "    tree = ET.parse(annotation_path)\n",
    "    root = tree.getroot()\n",
    "\n",
    "    groundtruth_dict = {}\n",
    "    gt_bbs = []\n",
    "    cat_id = []\n",
    "    cat_label = []\n",
    "    \n",
    "    for object_node in root.iterfind('object'):\n",
    "        # Extract boundary box from XML files\n",
    "        for bb in object_node.iterfind('bndbox'):\n",
    "            gt_bb = []\n",
    "            for val in ['ymin', 'xmin', 'ymax', 'xmax']:\n",
    "                gt_bb.append(float(bb.find(val).text))\n",
    "            gt_bbs.append(gt_bb)\n",
    "\n",
    "        # Extract ground truth category\n",
    "        child = object_node.find('name')\n",
    "        cat_label.append(child.text)\n",
    "        # Hardcoded as of now :/\n",
    "        if child.text == 'cow':\n",
    "            cat_id.append(21)\n",
    "        elif child.text == 'dog':\n",
    "            cat_id.append(18)\n",
    "        # print(child.text)\n",
    "\n",
    "    # Extract size\n",
    "    groundtruth_dict['size'] = [int(root.find('size/width').text), int(root.find('size/height').text)]\n",
    "    # Dog is category 18 / Todo update\n",
    "    groundtruth_dict['num_detections'] = len(gt_bbs)\n",
    "    groundtruth_dict['original_boxes'] = gt_bbs\n",
    "    groundtruth_dict['groundtruth_boxes'] = np.array(gt_bbs, dtype=\"float32\")\n",
    "    groundtruth_dict['groundtruth_classes'] = np.array(cat_id) # np.full([len(gt_bbs)], 18)\n",
    "    groundtruth_dict['groundtruth_class_labels'] = np.array(cat_label) # np.full([len(gt_bbs)], 'dog')\n",
    "    \n",
    "    return groundtruth_dict"
   ]
  },
  {
   "cell_type": "code",
   "execution_count": 38,
   "metadata": {},
   "outputs": [],
   "source": [
    "# CSV text-file containing one object instance per line. Each line must contain 10 values: \n",
    "# <frame>, <id>, <bb_left>, <bb_top>, <bb_width>, <bb_height>, <conf>, <x>, <y>, <z> \n",
    "# All frame numbers, target IDs and bounding boxes are 1-based\n",
    "\n",
    "def extract_gt():\n",
    "    gt = 0\n",
    "    with open(PATH_TO_ANNOTATIONS_DIR, 'rb') as csvfile:\n",
    "        reader = csv.reader(csvfile, delimiter=',')\n",
    "        for row in reader:\n",
    "            print ', '.join(row)\n",
    "            gt = row\n",
    "            \n",
    "            groundtruth = {}\n",
    "            gt_bb = []\n",
    "            gt_bb.append( float(row[0]) ) # ymin\n",
    "            gt_bb.append( float(row[1]) ) # xmin\n",
    "            gt_bb.append( float(row[2]) ) # ymax\n",
    "            gt_bb.append( float(row[3]) ) # xmax\n",
    "            \n",
    "            gt_bbs = []\n",
    "            gt_bbs.append(gt_bb)\n",
    "            groundtruth['groundtruth_boxes'] = np.array(gt_bbs dtype=\"float32\")\n",
    "            groundtruth['groundtruth_classes'] =\n",
    "\n",
    "            return prediction\n",
    "    return gt"
   ]
  },
  {
   "cell_type": "markdown",
   "metadata": {},
   "source": [
    "# Forward Pass\n",
    "Evaluate the prediction using Tensorflow evaluation function"
   ]
  },
  {
   "cell_type": "code",
   "execution_count": 25,
   "metadata": {},
   "outputs": [],
   "source": [
    "ev_data = {}\n",
    "\n",
    "def forward_pass(gt):\n",
    "    for image_path in os.listdir(PATH_TO_IMAGES_DIR):\n",
    "        # File name without extension\n",
    "        image_id = os.path.splitext(os.path.basename(image_path))[0]\n",
    "        try:\n",
    "            # Ground Truth\n",
    "            #groundtruth_dict = extract_gt_for_single_image(image_id)\n",
    "            groundtruth_dict = gt[image_id]\n",
    "            image = Image.open(image_path)\n",
    "            # the array based representation of the image will be used later in order to prepare the\n",
    "            # result image with boxes and labels on it.\n",
    "            image_np = load_image_into_numpy_array(image)\n",
    "            # Expand dimensions since the model expects images to have shape: [1, None, None, 3]\n",
    "            image_np_expanded = np.expand_dims(image_np, axis=0)\n",
    "\n",
    "            # Actual detection.\n",
    "            output_dict = run_inference_for_single_image(image_np, detection_graph)\n",
    "\n",
    "            # The predicition gives BB in normalized coordinated\n",
    "            # Convert to original image cordinates from normalized coordinates (for evaluation and vizualization)\n",
    "            output_dict['detection_boxes'] = denormalise_box(output_dict['detection_boxes'], groundtruth_dict['size'])\n",
    "\n",
    "            ev_data[image_id] = (groundtruth_dict, output_dict)\n",
    "            print(image_id,\"Ground Truth\", groundtruth_dict['num_detections'], \"Detected\" ,output_dict['num_detections'])\n",
    "\n",
    "        except Exception as e:\n",
    "            print(image_id, 'Error', e)\n",
    "            continue"
   ]
  },
  {
   "cell_type": "markdown",
   "metadata": {},
   "source": [
    "# Main"
   ]
  },
  {
   "cell_type": "code",
   "execution_count": 26,
   "metadata": {},
   "outputs": [],
   "source": [
    "# Run the forward pass and store result in pickle file\n",
    "def run():\n",
    "    start_time = time.clock()\n",
    "    print \"Forward pass for \", PATH_TO_TEST_IMAGES_DIR\n",
    "    gt = extract_gt()\n",
    "    forward_pass(gt)\n",
    "\n",
    "    # Save model prediction\n",
    "    with open(PREDICTION_PKL_FILE,'wb') as fd:\n",
    "        pickle.dump(ev_data, fd)\n",
    "        print(\"\\n\", time.clock() - start_time, \"seconds\")"
   ]
  },
  {
   "cell_type": "code",
   "execution_count": 27,
   "metadata": {},
   "outputs": [],
   "source": [
    "# Evaluate the prediction\n",
    "def evaluate():\n",
    "    print(PREDICTION_PKL_FILE)\n",
    "    with open(PREDICTION_PKL_FILE,'rb') as fd:\n",
    "        ev_data = pickle.load(fd)\n",
    "        for image_path in os.listdir(PATH_TO_TEST_IMAGES_DIR):\n",
    "            # File name without extension\n",
    "            image_id = os.path.splitext(os.path.basename(image_path))[0]\n",
    "            prediction = ev_data[image_id]\n",
    "            # Plot the BB on image\n",
    "            drawBB(image_path, prediction)\n",
    "    print \"Done\""
   ]
  },
  {
   "cell_type": "code",
   "execution_count": 39,
   "metadata": {},
   "outputs": [
    {
     "name": "stdout",
     "output_type": "stream",
     "text": [
      "1, 1, 1368, 394, 74, 226, 1, 1, 1\n"
     ]
    }
   ],
   "source": [
    "def main():\n",
    "    #run()\n",
    "    #evaluate()\n",
    "    prediction = extract_gt()\n",
    "    drawBB(image_path, prediction)\n",
    "main()"
   ]
  },
  {
   "cell_type": "code",
   "execution_count": null,
   "metadata": {},
   "outputs": [],
   "source": []
  }
 ],
 "metadata": {
  "colab": {
   "version": "0.3.2"
  },
  "kernelspec": {
   "display_name": "Python 2",
   "language": "python",
   "name": "python2"
  },
  "language_info": {
   "codemirror_mode": {
    "name": "ipython",
    "version": 2
   },
   "file_extension": ".py",
   "mimetype": "text/x-python",
   "name": "python",
   "nbconvert_exporter": "python",
   "pygments_lexer": "ipython2",
   "version": "2.7.15"
  }
 },
 "nbformat": 4,
 "nbformat_minor": 2
}
